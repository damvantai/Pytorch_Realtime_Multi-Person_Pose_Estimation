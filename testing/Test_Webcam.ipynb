{
 "cells": [
  {
   "cell_type": "code",
   "execution_count": 4,
   "metadata": {},
   "outputs": [],
   "source": [
    "import argparse\n",
    "import os\n",
    "import math\n",
    "import time\n",
    "import numpy as np\n",
    "from scipy.ndimage.filters import gaussian_filter\n",
    "import sys\n",
    "sys.path.append('..')\n",
    "import torch\n",
    "import pose_estimation\n",
    "import cv2\n",
    "from imutils.video import WebcamVideoStream"
   ]
  },
  {
   "cell_type": "code",
   "execution_count": null,
   "metadata": {},
   "outputs": [],
   "source": []
  },
  {
   "cell_type": "code",
   "execution_count": 5,
   "metadata": {},
   "outputs": [],
   "source": [
    "from threading import Thread\n",
    "import cv2\n",
    "import imutils\n",
    "class WebcamVideoStream:\n",
    "    def __init__(self, src=0):\n",
    "        self.stream = cv2.VideoCapture(src)\n",
    "        self.stream.set(3, 800)\n",
    "        self.stream.set(4, 600)\n",
    "        (self.grabbed, self.frame) = self.stream.read()\n",
    "        \n",
    "        self.stopped = False\n",
    "        \n",
    "    def start(self):\n",
    "        # Start the thread to read frames from the video stream\n",
    "        Thread(target=self.update, args=()).start()\n",
    "        return self\n",
    "    \n",
    "    def update(self):\n",
    "        while True:\n",
    "            if self.stopped:\n",
    "                return\n",
    "            \n",
    "            (self.grabbed, self.frame) = self.stream.read()\n",
    "            \n",
    "    def read(self):\n",
    "        return self.frame\n",
    "    \n",
    "    def stop(self):\n",
    "        self.stopped = True\n",
    "        "
   ]
  },
  {
   "cell_type": "code",
   "execution_count": 2,
   "metadata": {},
   "outputs": [],
   "source": [
    "if __name__ == '__main__':\n",
    "    os.environ['CUDA_VISIBLE_DEVICES'] = '0'\n",
    "    \n",
    "    # Load model\n",
    "    model_path = \"/home/neos/Documents/model/pose_human/pytorch/pose_model.pth\"\n",
    "    model = construct_model(model_path)\n",
    "    \n",
    "    video_capture = WebcamVideoStream(src=0).start()\n",
    "    \n",
    "    while True:\n",
    "        \n",
    "        frame = video_capture.read()\n",
    "        canvas = process(model, input_image)\n",
    "        \n",
    "        cv2.imshow(\"Video\", frame)\n",
    "        \n",
    "        if cv2.waitKey(1) & 0xFF == ord('q'):\n",
    "        break"
   ]
  },
  {
   "cell_type": "code",
   "execution_count": null,
   "metadata": {},
   "outputs": [],
   "source": []
  }
 ],
 "metadata": {
  "kernelspec": {
   "display_name": "Python 3",
   "language": "python",
   "name": "python3"
  },
  "language_info": {
   "codemirror_mode": {
    "name": "ipython",
    "version": 3
   },
   "file_extension": ".py",
   "mimetype": "text/x-python",
   "name": "python",
   "nbconvert_exporter": "python",
   "pygments_lexer": "ipython3",
   "version": "3.6.5"
  }
 },
 "nbformat": 4,
 "nbformat_minor": 2
}
